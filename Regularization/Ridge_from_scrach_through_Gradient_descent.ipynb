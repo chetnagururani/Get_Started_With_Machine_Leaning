{
 "cells": [
  {
   "cell_type": "code",
   "execution_count": 6,
   "id": "9a48099f-65b9-41b6-b223-e1296f1dcb4f",
   "metadata": {},
   "outputs": [],
   "source": [
    "from sklearn.linear_model import SGDRegressor\n",
    "from sklearn.datasets import load_diabetes\n",
    "from sklearn.metrics import r2_score\n",
    "import numpy as np"
   ]
  },
  {
   "cell_type": "code",
   "execution_count": 2,
   "id": "a93ccdd3-ae10-4fea-8466-996948bf02b7",
   "metadata": {},
   "outputs": [],
   "source": [
    "X, y = load_diabetes(return_X_y = True)"
   ]
  },
  {
   "cell_type": "code",
   "execution_count": 4,
   "id": "2c9e3634-7f8a-4b52-92e0-d1436ea9ca69",
   "metadata": {},
   "outputs": [],
   "source": [
    "from sklearn.model_selection import train_test_split\n",
    "X_train, X_test, y_train, y_test = train_test_split(X, y, test_size = 0.2, random_state =4)"
   ]
  },
  {
   "cell_type": "markdown",
   "id": "f81c3f0f-da3f-49f6-ac78-52c9a47984cb",
   "metadata": {},
   "source": [
    "### Method1 - using SVDRegressor"
   ]
  },
  {
   "cell_type": "code",
   "execution_count": 7,
   "id": "0a6fed08-5a02-4d06-9d72-6e5cfbbe7c49",
   "metadata": {},
   "outputs": [],
   "source": [
    "reg = SGDRegressor(penalty = 'l2', max_iter=500, eta0=0.1, learning_rate='constant', alpha=0.001)"
   ]
  },
  {
   "cell_type": "code",
   "execution_count": 9,
   "id": "454ea85f-1bcd-49b8-9b1b-e38a882508b5",
   "metadata": {},
   "outputs": [
    {
     "name": "stdout",
     "output_type": "stream",
     "text": [
      "R2 score 0.2781979860074971\n",
      "[  47.26522264 -161.30588443  369.07166807  271.42096673   -7.51427448\n",
      "  -61.04824927 -167.07111095  135.32080577  335.56670844  100.86945232]\n",
      "[124.74495851]\n"
     ]
    }
   ],
   "source": [
    "reg.fit(X_train , y_train)\n",
    "y_pred = reg.predict(X_test)\n",
    "print(\"R2 score\", r2_score(y_test, y_pred))\n",
    "print(reg.coef_)\n",
    "print(reg.intercept_)"
   ]
  },
  {
   "cell_type": "markdown",
   "id": "f45fb52c-9060-4d31-aa43-6668b5d7d2ef",
   "metadata": {},
   "source": [
    "### Method 2 Using Ridge regression "
   ]
  },
  {
   "cell_type": "code",
   "execution_count": 13,
   "id": "436a3c55-a4a8-49a6-b0fd-77539042e226",
   "metadata": {},
   "outputs": [],
   "source": [
    "from sklearn.linear_model import Ridge\n",
    "reg = Ridge(alpha=0.0001 , max_iter=500, solver=\"sparse_cg\")  # use gradient_descent algo"
   ]
  },
  {
   "cell_type": "code",
   "execution_count": 12,
   "id": "79be9c08-c850-44d8-a9e8-15e7e500fb88",
   "metadata": {},
   "outputs": [
    {
     "name": "stdout",
     "output_type": "stream",
     "text": [
      "R2 score 0.46126293538823604\n",
      "[  33.53400972 -292.09005344  481.23389089  368.95064743 -953.55457035\n",
      "  579.87792991  226.71066721  286.35299766  797.8864338    37.77336113]\n",
      "151.1416319800757\n"
     ]
    }
   ],
   "source": [
    "reg.fit(X_train , y_train)\n",
    "y_pred = reg.predict(X_test)\n",
    "print(\"R2 score\", r2_score(y_test, y_pred))\n",
    "print(reg.coef_)\n",
    "print(reg.intercept_)"
   ]
  },
  {
   "cell_type": "code",
   "execution_count": 22,
   "id": "0e5723b3-25d7-430b-862f-0501001d0bfd",
   "metadata": {},
   "outputs": [],
   "source": [
    "class self_ridgeGD:\n",
    "    def __init__(self,epochs, learning_rate, alpha =0.1):\n",
    "        self.epochs = epochs\n",
    "        self.learning_rate = learning_rate\n",
    "        self.alpha = alpha\n",
    "        self.coef_ = None\n",
    "        self.intercept_ = None\n",
    "    def fit(self, X_train, Y_train):\n",
    "        self.coef_ = np.ones(X_train.shape[1])\n",
    "        self.intercept_ = 0\n",
    "        theta = np.insert(self.coef_,0,self.intercept_)\n",
    "        \n",
    "        X_train = np.insert(X_train,0,1,axis=1)\n",
    "        \n",
    "        for i in range(self.epochs):\n",
    "            theta_der = np.dot(X_train.T,X_train).dot(theta) - np.dot(X_train.T,y_train) + self.alpha*theta\n",
    "            theta = theta - self.learning_rate*theta_der\n",
    "        \n",
    "        self.coef_ = theta[1:]\n",
    "        self.intercept_ = theta[0]\n",
    "    \n",
    "    def predict(self,X_test):\n",
    "        \n",
    "        return np.dot(X_test,self.coef_) + self.intercept_\n",
    "\n",
    "        \n",
    "        "
   ]
  },
  {
   "cell_type": "code",
   "execution_count": 23,
   "id": "77f18af5-d719-484a-b0b7-84e8f40c105d",
   "metadata": {},
   "outputs": [],
   "source": [
    "reg = self_ridgeGD(epochs=500,alpha=0.001,learning_rate=0.005)"
   ]
  },
  {
   "cell_type": "code",
   "execution_count": 24,
   "id": "3e01a4c2-19cd-4314-bfd7-3e598949cf52",
   "metadata": {},
   "outputs": [
    {
     "name": "stdout",
     "output_type": "stream",
     "text": [
      "R2 score 0.47380182802609117\n",
      "[  46.65050914 -221.3750037   452.12080647  325.54248128  -29.09464178\n",
      "  -96.47517735 -190.90017011  146.32900372  400.80267299   95.09048094]\n",
      "150.86975316713466\n"
     ]
    }
   ],
   "source": [
    "reg.fit(X_train,y_train)\n",
    "\n",
    "y_pred = reg.predict(X_test)\n",
    "print(\"R2 score\",r2_score(y_test,y_pred))\n",
    "print(reg.coef_)\n",
    "print(reg.intercept_)"
   ]
  },
  {
   "cell_type": "code",
   "execution_count": null,
   "id": "55bc595e-2e71-461c-bd50-502e5dc49590",
   "metadata": {},
   "outputs": [],
   "source": []
  }
 ],
 "metadata": {
  "kernelspec": {
   "display_name": "Python 3 (ipykernel)",
   "language": "python",
   "name": "python3"
  },
  "language_info": {
   "codemirror_mode": {
    "name": "ipython",
    "version": 3
   },
   "file_extension": ".py",
   "mimetype": "text/x-python",
   "name": "python",
   "nbconvert_exporter": "python",
   "pygments_lexer": "ipython3",
   "version": "3.12.7"
  }
 },
 "nbformat": 4,
 "nbformat_minor": 5
}
