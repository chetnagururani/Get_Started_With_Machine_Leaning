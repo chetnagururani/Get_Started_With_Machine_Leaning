{
 "cells": [
  {
   "cell_type": "code",
   "execution_count": 21,
   "id": "fba8cdc9-1a3e-46d1-b0a0-b4058809b846",
   "metadata": {},
   "outputs": [],
   "source": [
    "import numpy as np"
   ]
  },
  {
   "cell_type": "code",
   "execution_count": 44,
   "id": "959dfd4c-0659-4f01-8c78-86488e8f16e4",
   "metadata": {},
   "outputs": [],
   "source": [
    "class self_ridge:\n",
    "    def __init__(self, alpha = 0.1):\n",
    "        self.alpha = alpha\n",
    "        self.m = None\n",
    "        self.b = None\n",
    "    def fit(self, X_train, y_train):\n",
    "        num = 0\n",
    "        den = 0\n",
    "        for i in range(X_train.shape[0]):\n",
    "            num = num + (y_train[i] - y_train.mean()) * (X_train[i] - X_train.mean())\n",
    "            den = den + (X_train[i] - X_train.mean()) * (X_train[i] - X_train.mean()) \n",
    "        self.m = num/(den + self.alpha)\n",
    "        self.b = y_train.mean() - (self.m*X_train.mean()) \n",
    "        print(self.m, self.b)\n",
    "    def predict(self, X_test):\n",
    "        return (X_test*self.m) + self.b\n",
    "        "
   ]
  },
  {
   "cell_type": "code",
   "execution_count": 45,
   "id": "55b52176-266d-48b0-a577-f2e8ae9d2abc",
   "metadata": {},
   "outputs": [],
   "source": [
    "R = self_ridge(alpha = 10)"
   ]
  },
  {
   "cell_type": "code",
   "execution_count": 37,
   "id": "dce0aa3d-51ff-48e7-86b6-9a376cb4d61d",
   "metadata": {},
   "outputs": [],
   "source": [
    "from sklearn.datasets import make_regression\n",
    "X , y = make_regression(n_samples=100, n_features=1, n_informative=1, n_targets=1, noise=20, random_state=13)"
   ]
  },
  {
   "cell_type": "code",
   "execution_count": 48,
   "id": "d393d6dc-e6f4-4194-8901-bf2a83ee87ce",
   "metadata": {},
   "outputs": [
    {
     "name": "stdout",
     "output_type": "stream",
     "text": [
      "[20.06718258] [-1.84145014]\n"
     ]
    }
   ],
   "source": [
    "R.fit(X, y)\n",
    "y = R.predict(X)"
   ]
  },
  {
   "cell_type": "code",
   "execution_count": 11,
   "id": "fac67e90-d059-4a99-9309-dd04552da441",
   "metadata": {},
   "outputs": [],
   "source": [
    "R1 = self_ridge(alpha =100)"
   ]
  },
  {
   "cell_type": "code",
   "execution_count": 12,
   "id": "12ee6aab-7a3f-4a1a-9d04-9d7a51000845",
   "metadata": {},
   "outputs": [
    {
     "name": "stdout",
     "output_type": "stream",
     "text": [
      "[12.93442104] [-1.42484415]\n"
     ]
    }
   ],
   "source": [
    "R1.fit(X, y)"
   ]
  },
  {
   "cell_type": "code",
   "execution_count": 13,
   "id": "ca12ad18-bd90-4981-8c82-021fd0fffb80",
   "metadata": {},
   "outputs": [],
   "source": [
    "# Rigde Regression for multiple features"
   ]
  },
  {
   "cell_type": "code",
   "execution_count": 28,
   "id": "940e95d0-dd22-45d4-aecc-ef03bf1caf08",
   "metadata": {},
   "outputs": [],
   "source": [
    "class self_ridge2:\n",
    "    def __init__(self,alpha=0.1):\n",
    "        \n",
    "        self.alpha = alpha\n",
    "        self.coef_ = None\n",
    "        self.intercept_ = None\n",
    "        \n",
    "    def fit(self,X_train,y_train):\n",
    "        \n",
    "        X_train = np.insert(X_train,0,1,axis=1)\n",
    "        I = np.identity(X_train.shape[1])\n",
    "        I[0][0] = 0                 \n",
    "        result = np.linalg.inv(np.dot(X_train.T,X_train) + self.alpha * I).dot(X_train.T).dot(y_train)\n",
    "        self.intercept_ = result[0]\n",
    "        self.coef_ = result[1:]\n",
    "    \n",
    "    def predict(self,X_test):\n",
    "        return np.dot(X_test,self.coef_) + self.intercept_"
   ]
  },
  {
   "cell_type": "code",
   "execution_count": 29,
   "id": "d1783c7f-e691-467d-a752-0df1f2b0fec5",
   "metadata": {},
   "outputs": [],
   "source": [
    "from sklearn.datasets import load_diabetes\n",
    "X, y = load_diabetes(return_X_y = True)"
   ]
  },
  {
   "cell_type": "code",
   "execution_count": 30,
   "id": "0e2be600-40f7-480b-811f-b4cd15a1a503",
   "metadata": {},
   "outputs": [],
   "source": [
    "from sklearn.model_selection import train_test_split\n",
    "X_train, X_test, y_train, y_test = train_test_split(X, y, test_size = 0.2, random_state =4)\n"
   ]
  },
  {
   "cell_type": "code",
   "execution_count": 34,
   "id": "518c692c-9e09-4f15-affb-fb9b78971060",
   "metadata": {},
   "outputs": [
    {
     "name": "stdout",
     "output_type": "stream",
     "text": [
      "[  44.02063391 -241.69329987  452.98665299  332.04420177  -76.33686744\n",
      "  -68.52143809 -164.98809083  149.96908118  431.61347417   58.51862681]\n",
      "150.89053425602805\n"
     ]
    }
   ],
   "source": [
    "reg = self_ridge2()\n",
    "reg.fit(X_train,y_train)\n",
    "y_pred = reg.predict(X_test)\n",
    "print(reg.coef_)\n",
    "print(reg.intercept_)"
   ]
  },
  {
   "cell_type": "code",
   "execution_count": null,
   "id": "19b32e9c-7e57-4e58-94f7-18a6b8e776ff",
   "metadata": {},
   "outputs": [],
   "source": []
  }
 ],
 "metadata": {
  "kernelspec": {
   "display_name": "Python 3 (ipykernel)",
   "language": "python",
   "name": "python3"
  },
  "language_info": {
   "codemirror_mode": {
    "name": "ipython",
    "version": 3
   },
   "file_extension": ".py",
   "mimetype": "text/x-python",
   "name": "python",
   "nbconvert_exporter": "python",
   "pygments_lexer": "ipython3",
   "version": "3.12.7"
  }
 },
 "nbformat": 4,
 "nbformat_minor": 5
}
