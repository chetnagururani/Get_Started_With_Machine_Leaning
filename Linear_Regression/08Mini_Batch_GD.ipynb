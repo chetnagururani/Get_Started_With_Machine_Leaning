{
 "cells": [
  {
   "cell_type": "code",
   "execution_count": 59,
   "id": "751aa618-5dbf-4709-b91f-20ac58f7372f",
   "metadata": {},
   "outputs": [],
   "source": [
    "from sklearn.datasets import load_diabetes\n",
    "import pandas as pd\n",
    "import numpy as np\n",
    "from sklearn.linear_model import SGDRegressor\n",
    "from sklearn.metrics import r2_score\n",
    "from sklearn.model_selection import train_test_split\n",
    "import random "
   ]
  },
  {
   "cell_type": "code",
   "execution_count": 3,
   "id": "3e0fe0bf-41df-4b89-bee2-595e7d944b0b",
   "metadata": {},
   "outputs": [],
   "source": [
    "X,y = load_diabetes(return_X_y=True)"
   ]
  },
  {
   "cell_type": "code",
   "execution_count": 5,
   "id": "7418a104-8999-441f-9cc6-17a3f22e5c98",
   "metadata": {},
   "outputs": [
    {
     "name": "stdout",
     "output_type": "stream",
     "text": [
      "(442, 10)\n",
      "(442,)\n"
     ]
    }
   ],
   "source": [
    "print(X.shape)\n",
    "print(y.shape)"
   ]
  },
  {
   "cell_type": "code",
   "execution_count": 7,
   "id": "19653b37-becc-4de7-9cc2-ab9cd21d90b0",
   "metadata": {},
   "outputs": [],
   "source": [
    "X_train,X_test,y_train,y_test = train_test_split(X,y,test_size=0.2,random_state=2)"
   ]
  },
  {
   "cell_type": "code",
   "execution_count": 61,
   "id": "b453ba88-c014-47de-98a4-b78583991b84",
   "metadata": {},
   "outputs": [],
   "source": [
    "sgd = SGDRegressor(learning_rate= 'constant', eta0=0.2)"
   ]
  },
  {
   "cell_type": "code",
   "execution_count": 63,
   "id": "9b9f4194-1831-4e2f-9356-650f33911a23",
   "metadata": {},
   "outputs": [],
   "source": [
    "batch_size =35\n",
    "for i in range(100):\n",
    "    idx = random.sample(range(X_train.shape[0]), batch_size)\n",
    "    sgd.partial_fit(X_train[idx], y_train[idx])"
   ]
  },
  {
   "cell_type": "code",
   "execution_count": 65,
   "id": "bd041af4-fb62-4e45-a217-9f36f946e983",
   "metadata": {},
   "outputs": [
    {
     "data": {
      "text/plain": [
       "array([ -17.40103398, -146.63177583,  467.35412781,  264.47924412,\n",
       "        -11.02562903,  -78.52455464, -197.05406777,  127.02098862,\n",
       "        396.40596875,   84.54865948])"
      ]
     },
     "execution_count": 65,
     "metadata": {},
     "output_type": "execute_result"
    }
   ],
   "source": [
    "sgd.coef_"
   ]
  },
  {
   "cell_type": "code",
   "execution_count": 67,
   "id": "6f877880-fcda-4760-8284-60a5ff54dd3d",
   "metadata": {},
   "outputs": [
    {
     "data": {
      "text/plain": [
       "array([138.38916877])"
      ]
     },
     "execution_count": 67,
     "metadata": {},
     "output_type": "execute_result"
    }
   ],
   "source": [
    "sgd.intercept_"
   ]
  },
  {
   "cell_type": "code",
   "execution_count": null,
   "id": "659926d6-9de3-4185-8666-93f3e7f1bd57",
   "metadata": {},
   "outputs": [],
   "source": []
  },
  {
   "cell_type": "code",
   "execution_count": 69,
   "id": "774b22f1-a456-4055-95dd-10e29f46c575",
   "metadata": {},
   "outputs": [],
   "source": [
    "y_pred = sgd.predict(X_test)"
   ]
  },
  {
   "cell_type": "code",
   "execution_count": 71,
   "id": "c1bd960b-7bee-4a75-a3fd-423e73de54e2",
   "metadata": {},
   "outputs": [
    {
     "data": {
      "text/plain": [
       "0.4268215422509639"
      ]
     },
     "execution_count": 71,
     "metadata": {},
     "output_type": "execute_result"
    }
   ],
   "source": [
    "r2_score(y_test, y_pred)"
   ]
  },
  {
   "cell_type": "markdown",
   "id": "0ea8e742-c47d-4ff5-8204-fa8b11e53baf",
   "metadata": {},
   "source": [
    "<b> Creating class from scratch"
   ]
  },
  {
   "cell_type": "code",
   "execution_count": 21,
   "id": "7699ac63-38ae-436d-99eb-8f76d4e6716b",
   "metadata": {},
   "outputs": [],
   "source": [
    "class MBGDRegressor:\n",
    "    def __init__(self, batch_size, learning_rate= 0.01, epochs=100):\n",
    "        self.coef_ = None\n",
    "        self.intercept_ = None\n",
    "        self.lr= learning_rate\n",
    "        self.epochs= epochs\n",
    "        self.batch_size = batch_size\n",
    "        \n",
    "    def fit(self, X_train, y_train):\n",
    "        #init your coef\n",
    "        self.intercept_ = 0\n",
    "        self.coef_ = np.ones(X_train.shape[1])\n",
    "        \n",
    "        for i in range(self.epochs):\n",
    "            for j in range(int(X_train.shape[0]/self.batch_size)):# the loop work upto the number of batch  \n",
    "\n",
    "                idx= random.sample(range(X_train.shape[0]), self.batch_size)\n",
    "                # X_train[idx]  this will generate random column and rows of size n*n ,n= number of batch\n",
    "                y_hat = np.dot(X_train[idx] , self.coef_) + self.intercept_ # vector quantity\n",
    "                intercept_der = -2 * np.mean(y_train[idx] - y_hat)\n",
    "                # update\n",
    "                self.intercept_ -= (self.lr * intercept_der)\n",
    "\n",
    "                coef_der = -2 * np.dot((y_train[idx] - y_hat), X_train[idx])/ X_train.shape[0]\n",
    "                self.coef_ -= (self.lr * coef_der)\n",
    "            \n",
    "        print(self.intercept_, self.coef_)\n",
    "        \n",
    "    def predict(self, x_test):\n",
    "        return np.dot(X_test, self.coef_) +self.intercept_"
   ]
  },
  {
   "cell_type": "code",
   "execution_count": 49,
   "id": "4617a1b1-a2c5-42e1-a3ba-48cabd89715d",
   "metadata": {},
   "outputs": [],
   "source": [
    "mbr =MBGDRegressor(batch_size = int(X_train.shape[0]/10), learning_rate =0.09, epochs=100)"
   ]
  },
  {
   "cell_type": "code",
   "execution_count": 51,
   "id": "1f66eb9e-87e9-4b50-aec2-e59c5df67fef",
   "metadata": {},
   "outputs": [
    {
     "name": "stdout",
     "output_type": "stream",
     "text": [
      "153.05180681633612 [ 14.77195139   3.43679615  37.72210962  29.767185    13.14311223\n",
      "  10.254317   -22.11929582  24.92454899  36.86852247  22.9168397 ]\n"
     ]
    }
   ],
   "source": [
    "mbr.fit(X_train, y_train)"
   ]
  },
  {
   "cell_type": "code",
   "execution_count": 53,
   "id": "a57af709-5aa7-4b01-abe6-f338f7a18ac8",
   "metadata": {},
   "outputs": [],
   "source": [
    "y_pred = mbr.predict(X_test)"
   ]
  },
  {
   "cell_type": "code",
   "execution_count": 55,
   "id": "953bfc0b-e106-430d-926e-3c12ab672f7c",
   "metadata": {},
   "outputs": [
    {
     "data": {
      "text/plain": [
       "0.09818194383333734"
      ]
     },
     "execution_count": 55,
     "metadata": {},
     "output_type": "execute_result"
    }
   ],
   "source": [
    "r2_score(y_test, y_pred)"
   ]
  },
  {
   "cell_type": "code",
   "execution_count": null,
   "id": "81898304-0fb2-4e51-9fc3-6537ce0477ff",
   "metadata": {},
   "outputs": [],
   "source": []
  }
 ],
 "metadata": {
  "kernelspec": {
   "display_name": "Python 3 (ipykernel)",
   "language": "python",
   "name": "python3"
  },
  "language_info": {
   "codemirror_mode": {
    "name": "ipython",
    "version": 3
   },
   "file_extension": ".py",
   "mimetype": "text/x-python",
   "name": "python",
   "nbconvert_exporter": "python",
   "pygments_lexer": "ipython3",
   "version": "3.12.4"
  }
 },
 "nbformat": 4,
 "nbformat_minor": 5
}
